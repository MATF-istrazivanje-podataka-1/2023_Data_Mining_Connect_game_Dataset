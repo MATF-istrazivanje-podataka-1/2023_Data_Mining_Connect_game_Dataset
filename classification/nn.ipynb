{
 "cells": [
  {
   "cell_type": "code",
   "execution_count": 1,
   "id": "e6373f1d",
   "metadata": {},
   "outputs": [
    {
     "name": "stderr",
     "output_type": "stream",
     "text": [
      "2023-08-01 15:55:42.818958: I tensorflow/core/util/port.cc:110] oneDNN custom operations are on. You may see slightly different numerical results due to floating-point round-off errors from different computation orders. To turn them off, set the environment variable `TF_ENABLE_ONEDNN_OPTS=0`.\n",
      "2023-08-01 15:55:42.835157: I tensorflow/tsl/cuda/cudart_stub.cc:28] Could not find cuda drivers on your machine, GPU will not be used.\n",
      "2023-08-01 15:55:43.106389: I tensorflow/tsl/cuda/cudart_stub.cc:28] Could not find cuda drivers on your machine, GPU will not be used.\n",
      "2023-08-01 15:55:43.109990: I tensorflow/core/platform/cpu_feature_guard.cc:182] This TensorFlow binary is optimized to use available CPU instructions in performance-critical operations.\n",
      "To enable the following instructions: AVX2 AVX512F AVX512_VNNI FMA, in other operations, rebuild TensorFlow with the appropriate compiler flags.\n",
      "2023-08-01 15:55:45.492002: W tensorflow/compiler/tf2tensorrt/utils/py_utils.cc:38] TF-TRT Warning: Could not find TensorRT\n"
     ]
    }
   ],
   "source": [
    "import tensorflow\n",
    "import numpy as np\n",
    "import matplotlib.pyplot as plt\n",
    "import pandas as pd\n",
    "import seaborn as sns\n",
    "from sklearn.metrics import confusion_matrix, accuracy_score, precision_score, recall_score, f1_score\n",
    "from tensorflow import keras\n",
    "from tensorflow.keras import layers\n",
    "from keras.utils import to_categorical\n",
    "from keras.losses import CategoricalCrossentropy"
   ]
  },
  {
   "cell_type": "code",
   "execution_count": 2,
   "id": "af69df67",
   "metadata": {},
   "outputs": [],
   "source": [
    "X_train = pd.read_csv(\"../preprocessing/X_train.csv\")\n",
    "y_train = pd.read_csv(\"../preprocessing/y_train.csv\")\n",
    "X_test = pd.read_csv(\"../preprocessing/X_test.csv\")\n",
    "y_test = pd.read_csv(\"../preprocessing/y_test.csv\")"
   ]
  },
  {
   "cell_type": "code",
   "execution_count": 3,
   "id": "443fdb5d",
   "metadata": {},
   "outputs": [],
   "source": [
    "y_train_cat = to_categorical(y_train)\n",
    "y_test_cat = to_categorical(y_test)"
   ]
  },
  {
   "cell_type": "code",
   "execution_count": 4,
   "id": "6f78c41d",
   "metadata": {},
   "outputs": [],
   "source": [
    "def compile_and_describe_model(model):\n",
    "    model.compile(\n",
    "    optimizer='adam',\n",
    "    loss=CategoricalCrossentropy(),\n",
    "    metrics=['accuracy']\n",
    "    )\n",
    "    model.summary()\n",
    "    return model"
   ]
  },
  {
   "cell_type": "code",
   "execution_count": 31,
   "id": "652ab9d0",
   "metadata": {},
   "outputs": [],
   "source": [
    "def evaluate(history):\n",
    "    fig, plots = plt.subplots(1, 2, layout=None,figsize=(15, 5))\n",
    "    plots[0].plot(history.epoch, history.history['loss'])\n",
    "    plots[0].plot(history.epoch, history.history['val_loss'])\n",
    "#     plots[0].ylim([0, 1])\n",
    "    plots[0].legend(['Trening gubitak', 'Validacioni gubitak'])\n",
    "    \n",
    "    plots[1].plot(history.epoch, history.history['accuracy'])\n",
    "    plots[1].plot(history.epoch, history.history['val_accuracy'])\n",
    "#     plots[1].ylim([0, 1])\n",
    "    plots[1].legend(['Trening tačnost', 'Validaciona tačnost'])"
   ]
  },
  {
   "cell_type": "code",
   "execution_count": 64,
   "id": "e35a72cd",
   "metadata": {},
   "outputs": [],
   "source": [
    "def compare_models_plot(hist, names):\n",
    "    fig, plots = plt.subplots(2, 2, figsize=(10, 5))\n",
    "    for h in hist:\n",
    "        plots[0,0].plot(h.epoch, h.history['loss'])\n",
    "        plots[0,0].legend(names)\n",
    "        plots[0,0].set_title('Gubitak na trening podacima')\n",
    "    for h in hist:\n",
    "        plots[0,1].plot(h.epoch, h.history['val_loss'])\n",
    "        plots[0,1].legend(names)\n",
    "        plots[0,1].set_title('Gubitak na validacionim podacima')\n",
    "    for h in hist:\n",
    "        plots[1,0].plot(h.epoch, h.history['accuracy'])\n",
    "        plots[1,0].legend(names)\n",
    "        plots[1,0].set_title('Tačnost na trening podacima')\n",
    "    for h in hist:\n",
    "        plots[1,1].plot(h.epoch, h.history['val_accuracy'])\n",
    "        plots[1,1].legend(names)\n",
    "        plots[1,1].set_title('Tačnost na validacionim podacima')\n",
    "    fig.tight_layout()"
   ]
  },
  {
   "cell_type": "code",
   "execution_count": 18,
   "id": "37173855",
   "metadata": {},
   "outputs": [],
   "source": [
    "def test_and_evaluate(model, X_test, y_test_cat):\n",
    "    test_loss, test_acc = model.evaluate(X_test, y_test_cat)"
   ]
  },
  {
   "cell_type": "code",
   "execution_count": 19,
   "id": "94fb3e74",
   "metadata": {},
   "outputs": [],
   "source": [
    "input_shape = X_train.shape[1]\n",
    "output_shape = y_test_cat.shape[1]"
   ]
  },
  {
   "cell_type": "code",
   "execution_count": 49,
   "id": "d2a98bde",
   "metadata": {},
   "outputs": [],
   "source": [
    "model1 = keras.Sequential([\n",
    "      layers.Dense(64, activation='relu', input_shape=[input_shape]),\n",
    "      layers.Dense(64, activation='relu'),\n",
    "      layers.Dense(output_shape, activation='softmax')\n",
    "  ])"
   ]
  },
  {
   "cell_type": "code",
   "execution_count": 50,
   "id": "3c039b58",
   "metadata": {},
   "outputs": [
    {
     "name": "stdout",
     "output_type": "stream",
     "text": [
      "Model: \"sequential_7\"\n",
      "_________________________________________________________________\n",
      " Layer (type)                Output Shape              Param #   \n",
      "=================================================================\n",
      " dense_23 (Dense)            (None, 64)                2752      \n",
      "                                                                 \n",
      " dense_24 (Dense)            (None, 64)                4160      \n",
      "                                                                 \n",
      " dense_25 (Dense)            (None, 2)                 130       \n",
      "                                                                 \n",
      "=================================================================\n",
      "Total params: 7042 (27.51 KB)\n",
      "Trainable params: 7042 (27.51 KB)\n",
      "Non-trainable params: 0 (0.00 Byte)\n",
      "_________________________________________________________________\n"
     ]
    }
   ],
   "source": [
    "model1 = compile_and_describe_model(model1)"
   ]
  },
  {
   "cell_type": "code",
   "execution_count": 51,
   "id": "622c7cbb",
   "metadata": {},
   "outputs": [],
   "source": [
    "history1 = model1.fit(X_train, y_train_cat,\n",
    "                    epochs = 10, validation_split=0.2,\n",
    "                    verbose = 0)"
   ]
  },
  {
   "cell_type": "code",
   "execution_count": 28,
   "id": "0e98c47e",
   "metadata": {},
   "outputs": [
    {
     "name": "stdout",
     "output_type": "stream",
     "text": [
      "423/423 [==============================] - 1s 3ms/step - loss: 0.2671 - accuracy: 0.8965\n"
     ]
    }
   ],
   "source": [
    "test_and_evaluate(model, X_test, y_test_cat)"
   ]
  },
  {
   "cell_type": "code",
   "execution_count": 70,
   "id": "0999f097",
   "metadata": {},
   "outputs": [
    {
     "name": "stdout",
     "output_type": "stream",
     "text": [
      "Model: \"sequential_9\"\n",
      "_________________________________________________________________\n",
      " Layer (type)                Output Shape              Param #   \n",
      "=================================================================\n",
      " dense_30 (Dense)            (None, 64)                2752      \n",
      "                                                                 \n",
      " dropout_1 (Dropout)         (None, 64)                0         \n",
      "                                                                 \n",
      " dense_31 (Dense)            (None, 128)               8320      \n",
      "                                                                 \n",
      " dense_32 (Dense)            (None, 2)                 258       \n",
      "                                                                 \n",
      "=================================================================\n",
      "Total params: 11330 (44.26 KB)\n",
      "Trainable params: 11330 (44.26 KB)\n",
      "Non-trainable params: 0 (0.00 Byte)\n",
      "_________________________________________________________________\n"
     ]
    }
   ],
   "source": [
    "model2 = keras.Sequential([\n",
    "      layers.Dense(64, activation='relu', input_shape=[input_shape]),\n",
    "      layers.Dropout(0.2),\n",
    "      layers.Dense(128, activation='relu'),\n",
    "      layers.Dense(output_shape, activation='softmax')\n",
    "  ])\n",
    "model2 = compile_and_describe_model(model2)"
   ]
  },
  {
   "cell_type": "code",
   "execution_count": 71,
   "id": "3dcaaed7",
   "metadata": {},
   "outputs": [],
   "source": [
    "history2 = model2.fit(X_train, y_train_cat,\n",
    "                    epochs = 10, validation_split=0.2,\n",
    "                    verbose = 0)"
   ]
  },
  {
   "cell_type": "code",
   "execution_count": 38,
   "id": "932aa82c",
   "metadata": {},
   "outputs": [
    {
     "name": "stdout",
     "output_type": "stream",
     "text": [
      "423/423 [==============================] - 1s 3ms/step - loss: 0.2517 - accuracy: 0.9039\n"
     ]
    }
   ],
   "source": [
    "test_and_evaluate(model2, X_test, y_test_cat)"
   ]
  },
  {
   "cell_type": "code",
   "execution_count": 67,
   "id": "a0788616",
   "metadata": {},
   "outputs": [
    {
     "name": "stdout",
     "output_type": "stream",
     "text": [
      "Model: \"sequential_5\"\n",
      "_________________________________________________________________\n",
      " Layer (type)                Output Shape              Param #   \n",
      "=================================================================\n",
      " dense_15 (Dense)            (None, 64)                2752      \n",
      "                                                                 \n",
      " dense_16 (Dense)            (None, 128)               8320      \n",
      "                                                                 \n",
      " dense_17 (Dense)            (None, 128)               16512     \n",
      "                                                                 \n",
      " dense_18 (Dense)            (None, 2)                 258       \n",
      "                                                                 \n",
      "=================================================================\n",
      "Total params: 27842 (108.76 KB)\n",
      "Trainable params: 27842 (108.76 KB)\n",
      "Non-trainable params: 0 (0.00 Byte)\n",
      "_________________________________________________________________\n"
     ]
    }
   ],
   "source": [
    "model3 = keras.Sequential([\n",
    "      layers.Dense(64, activation='relu', input_shape=[input_shape]),\n",
    "      layers.Dense(128, activation='relu'),\n",
    "      layers.Dropout(0.1),\n",
    "      layers.Dense(128, activation='relu'),\n",
    "      layers.Dense(output_shape, activation='softmax')\n",
    "  ])\n",
    "model3 = compile_and_describe_model(model2)"
   ]
  },
  {
   "cell_type": "code",
   "execution_count": 68,
   "id": "5bc129cb",
   "metadata": {},
   "outputs": [],
   "source": [
    "history3 = model3.fit(X_train, y_train_cat,\n",
    "                    epochs = 10, validation_split=0.2,\n",
    "                    verbose = 0)"
   ]
  },
  {
   "cell_type": "code",
   "execution_count": 72,
   "id": "a4acf188",
   "metadata": {},
   "outputs": [
    {
     "data": {
      "image/png": "[encoded data removed]",
      "text/plain": [
       "<Figure size 720x360 with 4 Axes>"
      ]
     },
     "metadata": {
      "needs_background": "light"
     },
     "output_type": "display_data"
    }
   ],
   "source": [
    "names = ['model 1', 'model 2', 'model 3']\n",
    "compare_models_plot([history1, history2, history3], names)"
   ]
  },
  {
   "cell_type": "markdown",
   "id": "825cd423",
   "metadata": {},
   "source": [
    "Sve u svemu, model 2 se čini najbolji za sada. "
   ]
  },
  {
   "cell_type": "code",
   "execution_count": 76,
   "id": "8aaf001d",
   "metadata": {},
   "outputs": [
    {
     "name": "stdout",
     "output_type": "stream",
     "text": [
      "423/423 - 1s - loss: 0.2517 - accuracy: 0.9059 - 917ms/epoch - 2ms/step\n",
      "Test loss: 0.2516727149486542\n",
      "Test accuracy: 0.9059354662895203\n"
     ]
    }
   ],
   "source": [
    "test_scores = model2.evaluate(X_test, y_test_cat, verbose=2)\n",
    "print(\"Test loss:\", test_scores[0])\n",
    "print(\"Test accuracy:\", test_scores[1])"
   ]
  },
  {
   "cell_type": "code",
   "execution_count": null,
   "id": "de97d911",
   "metadata": {},
   "outputs": [],
   "source": []
  }
 ],
 "metadata": {
  "kernelspec": {
   "display_name": "Python 3 (ipykernel)",
   "language": "python",
   "name": "python3"
  },
  "language_info": {
   "codemirror_mode": {
    "name": "ipython",
    "version": 3
   },
   "file_extension": ".py",
   "mimetype": "text/x-python",
   "name": "python",
   "nbconvert_exporter": "python",
   "pygments_lexer": "ipython3",
   "version": "3.10.6"
  }
 },
 "nbformat": 4,
 "nbformat_minor": 5
}
