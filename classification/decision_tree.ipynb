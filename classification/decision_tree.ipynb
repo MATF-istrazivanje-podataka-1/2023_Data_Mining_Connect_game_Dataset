{
 "cells": [
  {
   "cell_type": "code",
   "execution_count": 1,
   "id": "c896fcde",
   "metadata": {},
   "outputs": [],
   "source": [
    "import numpy as np\n",
    "import matplotlib.pyplot as plt\n",
    "import pandas as pd\n",
    "import seaborn as sns\n",
    "from sklearn.metrics import confusion_matrix, accuracy_score, precision_score, recall_score, f1_score\n",
    "from sklearn import tree\n",
    "from sklearn.model_selection import GridSearchCV\n",
    "from sklearn.ensemble import RandomForestClassifier\n",
    "from sklearn.metrics import roc_curve, roc_auc_score"
   ]
  },
  {
   "cell_type": "code",
   "execution_count": 2,
   "id": "4bce6925",
   "metadata": {},
   "outputs": [],
   "source": [
    "from sklearn.metrics import classification_report\n",
    "\n",
    "def report(model, x, y, text = \"training\"):\n",
    "    y_pred = model.predict(x)\n",
    "    \n",
    "    print(\"Classification report for model {} on {} data\".format(type(model).__name__, text))\n",
    "    print(\"---------------------------------------------------------------------------------\")\n",
    "    print(classification_report(y, y_pred))\n",
    "    print(\"---------------------------------------------------------------------------------\")\n",
    "    \n",
    "    print(\"Confusion matrix for model {} on {} data \".format(type(model).__name__, text))\n",
    "    print(\"---------------------------------------------------------------------------------\")\n",
    "    print(pd.DataFrame(confusion_matrix(y, y_pred), columns=['0', '1', '-1'], index=['0', '1', '-1']))\n",
    "    print(\"---------------------------------------------------------------------------------\")\n",
    "    \n",
    "\n",
    "def plot_decision_tree(model, feature_names):\n",
    "    plt.figure(figsize=(7, 7))\n",
    "    plot_tree(model, class_names=['win', 'tie', 'loss'], feature_names=feature_names, filled=True)\n",
    "    plt.title(\"Decision tree of depth {} with {} nodes\".format(model.get_depth(), model.get_n_leaves()))\n",
    "\n",
    "    plt.show()\n",
    "    print(\"---------------------------------------------------------------------------------\")\n",
    "    print(\"Parameters of model {}\".format(type(model).__name__))\n",
    "    for k, v in model.get_params().items():\n",
    "        print(k, v)\n",
    "    \n",
    "    print(\"---------------------------------------------------------------------------------\")\n",
    "\n",
    "    "
   ]
  },
  {
   "cell_type": "code",
   "execution_count": 3,
   "id": "a0797d1d",
   "metadata": {},
   "outputs": [],
   "source": [
    "X_train = pd.read_csv(\"../preprocessing/X_train.csv\")\n",
    "y_train = pd.read_csv(\"../preprocessing/y_train.csv\")\n",
    "X_test = pd.read_csv(\"../preprocessing/X_test.csv\")\n",
    "y_test = pd.read_csv(\"../preprocessing/y_test.csv\")"
   ]
  },
  {
   "cell_type": "code",
   "execution_count": 4,
   "id": "c20305e5",
   "metadata": {},
   "outputs": [],
   "source": [
    "clf = tree.DecisionTreeClassifier()\n",
    "clf = clf.fit(X_train, y_train)"
   ]
  },
  {
   "cell_type": "code",
   "execution_count": 5,
   "id": "64c1b16b",
   "metadata": {
    "scrolled": true
   },
   "outputs": [
    {
     "data": {
      "image/png": "[encoded data removed]",
      "text/plain": [
       "<Figure size 432x288 with 1 Axes>"
      ]
     },
     "metadata": {
      "needs_background": "light"
     },
     "output_type": "display_data"
    }
   ],
   "source": [
    "pd.Series(clf.feature_importances_, index=X_train.columns).plot.barh()\n",
    "plt.title(\"Važnost atributa\")\n",
    "plt.show()"
   ]
  },
  {
   "cell_type": "markdown",
   "id": "44228094",
   "metadata": {},
   "source": [
    "Iz značajnosti stributa vidimo da je mnogo bitnije da li su i kako popunjena polja u dnu table, nego na vrhu, što i ima smisla s obzirom na to kako se igra igra."
   ]
  },
  {
   "cell_type": "code",
   "execution_count": 6,
   "id": "970f3ff9",
   "metadata": {},
   "outputs": [
    {
     "name": "stdout",
     "output_type": "stream",
     "text": [
      "Classification report for model DecisionTreeClassifier on training data\n",
      "---------------------------------------------------------------------------------\n",
      "              precision    recall  f1-score   support\n",
      "\n",
      "          -1       1.00      1.00      1.00     13294\n",
      "           0       1.00      1.00      1.00      5154\n",
      "           1       1.00      1.00      1.00     35597\n",
      "\n",
      "    accuracy                           1.00     54045\n",
      "   macro avg       1.00      1.00      1.00     54045\n",
      "weighted avg       1.00      1.00      1.00     54045\n",
      "\n",
      "---------------------------------------------------------------------------------\n",
      "Confusion matrix for model DecisionTreeClassifier on training data \n",
      "---------------------------------------------------------------------------------\n",
      "        0     1     -1\n",
      "0   13294     0      0\n",
      "1       0  5154      0\n",
      "-1      0     0  35597\n",
      "---------------------------------------------------------------------------------\n"
     ]
    }
   ],
   "source": [
    "report(clf, X_train, y_train)"
   ]
  },
  {
   "cell_type": "code",
   "execution_count": 7,
   "id": "6ca6adb2",
   "metadata": {},
   "outputs": [
    {
     "name": "stdout",
     "output_type": "stream",
     "text": [
      "Classification report for model DecisionTreeClassifier on test data\n",
      "---------------------------------------------------------------------------------\n",
      "              precision    recall  f1-score   support\n",
      "\n",
      "          -1       0.69      0.68      0.68      3341\n",
      "           0       0.29      0.30      0.29      1295\n",
      "           1       0.86      0.87      0.86      8876\n",
      "\n",
      "    accuracy                           0.76     13512\n",
      "   macro avg       0.61      0.61      0.61     13512\n",
      "weighted avg       0.76      0.76      0.76     13512\n",
      "\n",
      "---------------------------------------------------------------------------------\n",
      "Confusion matrix for model DecisionTreeClassifier on test data \n",
      "---------------------------------------------------------------------------------\n",
      "       0    1    -1\n",
      "0   2260  384   697\n",
      "1    367  383   545\n",
      "-1   647  543  7686\n",
      "---------------------------------------------------------------------------------\n"
     ]
    }
   ],
   "source": [
    "report(clf, X_test, y_test, \"test\")"
   ]
  },
  {
   "cell_type": "markdown",
   "id": "dafb62da",
   "metadata": {},
   "source": [
    "Vidimo da je preciznost modela na trening podacima 1, ali da je ne test podacima mnogo manja. Dakle možemo pokušati da podesimo hiperparametre."
   ]
  },
  {
   "cell_type": "code",
   "execution_count": 8,
   "id": "83dc8890",
   "metadata": {},
   "outputs": [
    {
     "data": {
      "text/html": [
       "<style>#sk-container-id-1 {color: black;}#sk-container-id-1 pre{padding: 0;}#sk-container-id-1 div.sk-toggleable {background-color: white;}#sk-container-id-1 label.sk-toggleable__label {cursor: pointer;display: block;width: 100%;margin-bottom: 0;padding: 0.3em;box-sizing: border-box;text-align: center;}#sk-container-id-1 label.sk-toggleable__label-arrow:before {content: \"▸\";float: left;margin-right: 0.25em;color: #696969;}#sk-container-id-1 label.sk-toggleable__label-arrow:hover:before {color: black;}#sk-container-id-1 div.sk-estimator:hover label.sk-toggleable__label-arrow:before {color: black;}#sk-container-id-1 div.sk-toggleable__content {max-height: 0;max-width: 0;overflow: hidden;text-align: left;background-color: #f0f8ff;}#sk-container-id-1 div.sk-toggleable__content pre {margin: 0.2em;color: black;border-radius: 0.25em;background-color: #f0f8ff;}#sk-container-id-1 input.sk-toggleable__control:checked~div.sk-toggleable__content {max-height: 200px;max-width: 100%;overflow: auto;}#sk-container-id-1 input.sk-toggleable__control:checked~label.sk-toggleable__label-arrow:before {content: \"▾\";}#sk-container-id-1 div.sk-estimator input.sk-toggleable__control:checked~label.sk-toggleable__label {background-color: #d4ebff;}#sk-container-id-1 div.sk-label input.sk-toggleable__control:checked~label.sk-toggleable__label {background-color: #d4ebff;}#sk-container-id-1 input.sk-hidden--visually {border: 0;clip: rect(1px 1px 1px 1px);clip: rect(1px, 1px, 1px, 1px);height: 1px;margin: -1px;overflow: hidden;padding: 0;position: absolute;width: 1px;}#sk-container-id-1 div.sk-estimator {font-family: monospace;background-color: #f0f8ff;border: 1px dotted black;border-radius: 0.25em;box-sizing: border-box;margin-bottom: 0.5em;}#sk-container-id-1 div.sk-estimator:hover {background-color: #d4ebff;}#sk-container-id-1 div.sk-parallel-item::after {content: \"\";width: 100%;border-bottom: 1px solid gray;flex-grow: 1;}#sk-container-id-1 div.sk-label:hover label.sk-toggleable__label {background-color: #d4ebff;}#sk-container-id-1 div.sk-serial::before {content: \"\";position: absolute;border-left: 1px solid gray;box-sizing: border-box;top: 0;bottom: 0;left: 50%;z-index: 0;}#sk-container-id-1 div.sk-serial {display: flex;flex-direction: column;align-items: center;background-color: white;padding-right: 0.2em;padding-left: 0.2em;position: relative;}#sk-container-id-1 div.sk-item {position: relative;z-index: 1;}#sk-container-id-1 div.sk-parallel {display: flex;align-items: stretch;justify-content: center;background-color: white;position: relative;}#sk-container-id-1 div.sk-item::before, #sk-container-id-1 div.sk-parallel-item::before {content: \"\";position: absolute;border-left: 1px solid gray;box-sizing: border-box;top: 0;bottom: 0;left: 50%;z-index: -1;}#sk-container-id-1 div.sk-parallel-item {display: flex;flex-direction: column;z-index: 1;position: relative;background-color: white;}#sk-container-id-1 div.sk-parallel-item:first-child::after {align-self: flex-end;width: 50%;}#sk-container-id-1 div.sk-parallel-item:last-child::after {align-self: flex-start;width: 50%;}#sk-container-id-1 div.sk-parallel-item:only-child::after {width: 0;}#sk-container-id-1 div.sk-dashed-wrapped {border: 1px dashed gray;margin: 0 0.4em 0.5em 0.4em;box-sizing: border-box;padding-bottom: 0.4em;background-color: white;}#sk-container-id-1 div.sk-label label {font-family: monospace;font-weight: bold;display: inline-block;line-height: 1.2em;}#sk-container-id-1 div.sk-label-container {text-align: center;}#sk-container-id-1 div.sk-container {/* jupyter's `normalize.less` sets `[hidden] { display: none; }` but bootstrap.min.css set `[hidden] { display: none !important; }` so we also need the `!important` here to be able to override the default hidden behavior on the sphinx rendered scikit-learn.org. See: https://github.com/scikit-learn/scikit-learn/issues/21755 */display: inline-block !important;position: relative;}#sk-container-id-1 div.sk-text-repr-fallback {display: none;}</style><div id=\"sk-container-id-1\" class=\"sk-top-container\"><div class=\"sk-text-repr-fallback\"><pre>GridSearchCV(cv=3, estimator=DecisionTreeClassifier(),\n",
       "             param_grid={&#x27;criterion&#x27;: [&#x27;gini&#x27;, &#x27;entropy&#x27;],\n",
       "                         &#x27;max_depth&#x27;: [2, 4, 6, 8]})</pre><b>In a Jupyter environment, please rerun this cell to show the HTML representation or trust the notebook. <br />On GitHub, the HTML representation is unable to render, please try loading this page with nbviewer.org.</b></div><div class=\"sk-container\" hidden><div class=\"sk-item sk-dashed-wrapped\"><div class=\"sk-label-container\"><div class=\"sk-label sk-toggleable\"><input class=\"sk-toggleable__control sk-hidden--visually\" id=\"sk-estimator-id-1\" type=\"checkbox\" ><label for=\"sk-estimator-id-1\" class=\"sk-toggleable__label sk-toggleable__label-arrow\">GridSearchCV</label><div class=\"sk-toggleable__content\"><pre>GridSearchCV(cv=3, estimator=DecisionTreeClassifier(),\n",
       "             param_grid={&#x27;criterion&#x27;: [&#x27;gini&#x27;, &#x27;entropy&#x27;],\n",
       "                         &#x27;max_depth&#x27;: [2, 4, 6, 8]})</pre></div></div></div><div class=\"sk-parallel\"><div class=\"sk-parallel-item\"><div class=\"sk-item\"><div class=\"sk-label-container\"><div class=\"sk-label sk-toggleable\"><input class=\"sk-toggleable__control sk-hidden--visually\" id=\"sk-estimator-id-2\" type=\"checkbox\" ><label for=\"sk-estimator-id-2\" class=\"sk-toggleable__label sk-toggleable__label-arrow\">estimator: DecisionTreeClassifier</label><div class=\"sk-toggleable__content\"><pre>DecisionTreeClassifier()</pre></div></div></div><div class=\"sk-serial\"><div class=\"sk-item\"><div class=\"sk-estimator sk-toggleable\"><input class=\"sk-toggleable__control sk-hidden--visually\" id=\"sk-estimator-id-3\" type=\"checkbox\" ><label for=\"sk-estimator-id-3\" class=\"sk-toggleable__label sk-toggleable__label-arrow\">DecisionTreeClassifier</label><div class=\"sk-toggleable__content\"><pre>DecisionTreeClassifier()</pre></div></div></div></div></div></div></div></div></div></div>"
      ],
      "text/plain": [
       "GridSearchCV(cv=3, estimator=DecisionTreeClassifier(),\n",
       "             param_grid={'criterion': ['gini', 'entropy'],\n",
       "                         'max_depth': [2, 4, 6, 8]})"
      ]
     },
     "execution_count": 8,
     "metadata": {},
     "output_type": "execute_result"
    }
   ],
   "source": [
    "parameters = {'max_depth' : [2, 4, 6, 8],\n",
    "             'criterion' : ['gini', 'entropy']}\n",
    "estimator = GridSearchCV(tree.DecisionTreeClassifier(), param_grid=parameters, cv=3)\n",
    "estimator.fit(X_train, y_train)"
   ]
  },
  {
   "cell_type": "code",
   "execution_count": 9,
   "id": "a75d631a",
   "metadata": {},
   "outputs": [
    {
     "data": {
      "text/plain": [
       "{'criterion': 'gini', 'max_depth': 8}"
      ]
     },
     "execution_count": 9,
     "metadata": {},
     "output_type": "execute_result"
    }
   ],
   "source": [
    "estimator.best_params_"
   ]
  },
  {
   "cell_type": "code",
   "execution_count": 10,
   "id": "38ed6053",
   "metadata": {},
   "outputs": [
    {
     "data": {
      "text/plain": [
       "0.7295957072809696"
      ]
     },
     "execution_count": 10,
     "metadata": {},
     "output_type": "execute_result"
    }
   ],
   "source": [
    "estimator.best_score_"
   ]
  },
  {
   "cell_type": "code",
   "execution_count": 11,
   "id": "dfcbb165",
   "metadata": {},
   "outputs": [
    {
     "name": "stdout",
     "output_type": "stream",
     "text": [
      "Classification report for model DecisionTreeClassifier on training data\n",
      "---------------------------------------------------------------------------------\n",
      "              precision    recall  f1-score   support\n",
      "\n",
      "          -1       0.67      0.49      0.56     13294\n",
      "           0       0.50      0.03      0.06      5154\n",
      "           1       0.76      0.94      0.84     35597\n",
      "\n",
      "    accuracy                           0.74     54045\n",
      "   macro avg       0.64      0.48      0.49     54045\n",
      "weighted avg       0.71      0.74      0.70     54045\n",
      "\n",
      "---------------------------------------------------------------------------------\n",
      "Confusion matrix for model DecisionTreeClassifier on training data \n",
      "---------------------------------------------------------------------------------\n",
      "       0    1     -1\n",
      "0   6472   66   6756\n",
      "1    989  169   3996\n",
      "-1  2209  102  33286\n",
      "---------------------------------------------------------------------------------\n"
     ]
    }
   ],
   "source": [
    "report(estimator.best_estimator_, X_train, y_train)"
   ]
  },
  {
   "cell_type": "code",
   "execution_count": 12,
   "id": "4709d9f7",
   "metadata": {},
   "outputs": [
    {
     "name": "stdout",
     "output_type": "stream",
     "text": [
      "Classification report for model DecisionTreeClassifier on test data\n",
      "---------------------------------------------------------------------------------\n",
      "              precision    recall  f1-score   support\n",
      "\n",
      "          -1       0.66      0.47      0.55      3341\n",
      "           0       0.25      0.02      0.03      1295\n",
      "           1       0.75      0.93      0.83      8876\n",
      "\n",
      "    accuracy                           0.73     13512\n",
      "   macro avg       0.55      0.47      0.47     13512\n",
      "weighted avg       0.68      0.73      0.69     13512\n",
      "\n",
      "---------------------------------------------------------------------------------\n",
      "Confusion matrix for model DecisionTreeClassifier on test data \n",
      "---------------------------------------------------------------------------------\n",
      "       0   1    -1\n",
      "0   1570  26  1745\n",
      "1    267  22  1006\n",
      "-1   550  39  8287\n",
      "---------------------------------------------------------------------------------\n"
     ]
    }
   ],
   "source": [
    "report(estimator.best_estimator_, X_test, y_test, \"test\")"
   ]
  },
  {
   "cell_type": "markdown",
   "id": "31ac6a78",
   "metadata": {},
   "source": [
    "Kako ni ovo nije poboljšalo moć modela, možemo da probamo i ansambl pristup, tj da koristimo šumu."
   ]
  },
  {
   "cell_type": "code",
   "execution_count": 13,
   "id": "c5f35cce",
   "metadata": {},
   "outputs": [
    {
     "name": "stderr",
     "output_type": "stream",
     "text": [
      "/usr/local/lib/python3.10/dist-packages/sklearn/base.py:1151: DataConversionWarning: A column-vector y was passed when a 1d array was expected. Please change the shape of y to (n_samples,), for example using ravel().\n",
      "  return fit_method(estimator, *args, **kwargs)\n"
     ]
    },
    {
     "name": "stdout",
     "output_type": "stream",
     "text": [
      "Classification report for model RandomForestClassifier on test data\n",
      "---------------------------------------------------------------------------------\n",
      "              precision    recall  f1-score   support\n",
      "\n",
      "          -1       0.68      0.70      0.69      3341\n",
      "           0       0.32      0.20      0.25      1295\n",
      "           1       0.86      0.89      0.87      8876\n",
      "\n",
      "    accuracy                           0.78     13512\n",
      "   macro avg       0.62      0.60      0.60     13512\n",
      "weighted avg       0.76      0.78      0.77     13512\n",
      "\n",
      "---------------------------------------------------------------------------------\n",
      "Confusion matrix for model RandomForestClassifier on test data \n",
      "---------------------------------------------------------------------------------\n",
      "       0    1    -1\n",
      "0   2349  260   732\n",
      "1    434  257   604\n",
      "-1   692  285  7899\n",
      "---------------------------------------------------------------------------------\n"
     ]
    }
   ],
   "source": [
    "forest = RandomForestClassifier(n_estimators=5)\n",
    "forest.fit(X_train, y_train)\n",
    "report(forest, X_test, y_test, \"test\")"
   ]
  },
  {
   "cell_type": "markdown",
   "id": "3acc04e0",
   "metadata": {},
   "source": [
    "Vidimo da 5 drveta nije poboljšalo kvalitet modela, pa možemo da pokušamo da povećamo broj njih. "
   ]
  },
  {
   "cell_type": "code",
   "execution_count": 14,
   "id": "6684a2d9",
   "metadata": {},
   "outputs": [
    {
     "name": "stderr",
     "output_type": "stream",
     "text": [
      "/usr/local/lib/python3.10/dist-packages/sklearn/base.py:1151: DataConversionWarning: A column-vector y was passed when a 1d array was expected. Please change the shape of y to (n_samples,), for example using ravel().\n",
      "  return fit_method(estimator, *args, **kwargs)\n"
     ]
    },
    {
     "name": "stdout",
     "output_type": "stream",
     "text": [
      "Classification report for model RandomForestClassifier on training data\n",
      "---------------------------------------------------------------------------------\n",
      "              precision    recall  f1-score   support\n",
      "\n",
      "          -1       1.00      1.00      1.00     13294\n",
      "           0       1.00      1.00      1.00      5154\n",
      "           1       1.00      1.00      1.00     35597\n",
      "\n",
      "    accuracy                           1.00     54045\n",
      "   macro avg       1.00      1.00      1.00     54045\n",
      "weighted avg       1.00      1.00      1.00     54045\n",
      "\n",
      "---------------------------------------------------------------------------------\n",
      "Confusion matrix for model RandomForestClassifier on training data \n",
      "---------------------------------------------------------------------------------\n",
      "        0     1     -1\n",
      "0   13294     0      0\n",
      "1       0  5154      0\n",
      "-1      0     0  35597\n",
      "---------------------------------------------------------------------------------\n",
      "Classification report for model RandomForestClassifier on test data\n",
      "---------------------------------------------------------------------------------\n",
      "              precision    recall  f1-score   support\n",
      "\n",
      "          -1       0.81      0.75      0.78      3341\n",
      "           0       0.55      0.15      0.24      1295\n",
      "           1       0.85      0.96      0.90      8876\n",
      "\n",
      "    accuracy                           0.83     13512\n",
      "   macro avg       0.74      0.62      0.64     13512\n",
      "weighted avg       0.81      0.83      0.81     13512\n",
      "\n",
      "---------------------------------------------------------------------------------\n",
      "Confusion matrix for model RandomForestClassifier on test data \n",
      "---------------------------------------------------------------------------------\n",
      "       0    1    -1\n",
      "0   2491   98   752\n",
      "1    321  196   778\n",
      "-1   256   63  8557\n",
      "---------------------------------------------------------------------------------\n"
     ]
    }
   ],
   "source": [
    "forest = RandomForestClassifier(n_estimators=500, random_state=42)\n",
    "forest.fit(X_train, y_train)\n",
    "report(forest, X_train, y_train)\n",
    "report(forest, X_test, y_test, \"test\")"
   ]
  },
  {
   "cell_type": "markdown",
   "id": "30192deb",
   "metadata": {},
   "source": [
    "Kada koristimo 500 drveta, preciznost modela postaje prihvatljiva, ali po cenu interpretabilnosti i vizualizacije."
   ]
  },
  {
   "cell_type": "code",
   "execution_count": 45,
   "id": "a2fef3d4",
   "metadata": {},
   "outputs": [
    {
     "data": {
      "image/png": "[encoded data removed]",
      "text/plain": [
       "<Figure size 432x288 with 1 Axes>"
      ]
     },
     "metadata": {
      "needs_background": "light"
     },
     "output_type": "display_data"
    }
   ],
   "source": [
    "models = [clf, estimator.best_estimator_, forest]\n",
    "names = ['DecisionTree', 'GridSearchCrossValidation', 'RandomForest']\n",
    "set = zip(models, names)\n",
    "for model, name in set:\n",
    "    y_pred = model.predict(X_test)\n",
    "    falsePR, truePR, _ = roc_curve(y_test, y_pred, pos_label=1)\n",
    "#     auc = roc_auc_score(y_test, y_pred, multi_class=\"ovr\", average=\"micro\")\n",
    "    label = name \n",
    "    plt.plot(falsePR, truePR, label=label)\n",
    "plt.plot([0,1], [0,1], label='Random (auc = 0.5)')\n",
    "plt.title(\"Poređenje modela\")\n",
    "plt.legend()\n",
    "plt.show()"
   ]
  },
  {
   "cell_type": "markdown",
   "id": "17489ca1",
   "metadata": {},
   "source": [
    "Vidimo da najbolje performanse ima Random Forest, [to"
   ]
  },
  {
   "cell_type": "code",
   "execution_count": null,
   "id": "ebd44d67",
   "metadata": {},
   "outputs": [],
   "source": []
  }
 ],
 "metadata": {
  "kernelspec": {
   "display_name": "Python 3 (ipykernel)",
   "language": "python",
   "name": "python3"
  },
  "language_info": {
   "codemirror_mode": {
    "name": "ipython",
    "version": 3
   },
   "file_extension": ".py",
   "mimetype": "text/x-python",
   "name": "python",
   "nbconvert_exporter": "python",
   "pygments_lexer": "ipython3",
   "version": "3.10.6"
  }
 },
 "nbformat": 4,
 "nbformat_minor": 5
}
