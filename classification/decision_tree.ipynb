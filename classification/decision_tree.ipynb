{
 "cells": [
  {
   "cell_type": "code",
   "execution_count": 1,
   "id": "c896fcde",
   "metadata": {},
   "outputs": [],
   "source": [
    "import numpy as np\n",
    "import matplotlib.pyplot as plt\n",
    "import pandas as pd\n",
    "import seaborn as sns\n",
    "from sklearn.metrics import confusion_matrix, accuracy_score, precision_score, recall_score, f1_score\n",
    "from imblearn.over_sampling import SMOTE \n",
    "from sklearn import tree\n",
    "from sklearn.model_selection import GridSearchCV\n",
    "from sklearn.ensemble import RandomForestClassifier\n",
    "from sklearn.metrics import roc_curve, roc_auc_score"
   ]
  },
  {
   "cell_type": "code",
   "execution_count": 2,
   "id": "96cd3b32",
   "metadata": {},
   "outputs": [],
   "source": [
    "from sklearn.metrics import classification_report\n",
    "\n",
    "def report(model, x, y, text = \"trening\"):\n",
    "    y_pred = model.predict(x)\n",
    "    \n",
    "    print(f'Klasifikacioni izveštaj za model {type(model).__name__} za {text} podatke')\n",
    "    print(\"---------------------------------------------------------------------------------\")\n",
    "    print(classification_report(y, y_pred))\n",
    "    print(\"---------------------------------------------------------------------------------\")\n",
    "    \n",
    "    print(f'Matrica konfuzije za model {type(model).__name__}za {text} podatke')\n",
    "    print(\"---------------------------------------------------------------------------------\")\n",
    "    print(pd.DataFrame(confusion_matrix(y, y_pred), columns=['0', '1', '-1'], index=['0', '1', '-1']))\n",
    "    print(\"---------------------------------------------------------------------------------\")\n",
    "    \n"
   ]
  },
  {
   "cell_type": "code",
   "execution_count": 3,
   "id": "37201420",
   "metadata": {},
   "outputs": [],
   "source": [
    "X_train = pd.read_csv(\"../preprocessing/X_train.csv\")\n",
    "y_train = pd.read_csv(\"../preprocessing/y_train.csv\")\n",
    "X_test = pd.read_csv(\"../preprocessing/X_test.csv\")\n",
    "y_test = pd.read_csv(\"../preprocessing/y_test.csv\")"
   ]
  },
  {
   "cell_type": "code",
   "execution_count": 4,
   "id": "0262b1c2",
   "metadata": {},
   "outputs": [],
   "source": [
    "sm = SMOTE(random_state=42)\n",
    "X_train, y_train = sm.fit_resample(X_train, y_train)"
   ]
  },
  {
   "cell_type": "code",
   "execution_count": 5,
   "id": "a2b74cb8",
   "metadata": {},
   "outputs": [],
   "source": [
    "clf = tree.DecisionTreeClassifier()\n",
    "clf = clf.fit(X_train, y_train)"
   ]
  },
  {
   "cell_type": "code",
   "execution_count": 6,
   "id": "2d1ad3fa",
   "metadata": {
    "scrolled": true
   },
   "outputs": [
    {
     "data": {
      "image/png": "[encoded data removed]",
      "text/plain": [
       "<Figure size 432x288 with 1 Axes>"
      ]
     },
     "metadata": {
      "needs_background": "light"
     },
     "output_type": "display_data"
    }
   ],
   "source": [
    "pd.Series(clf.feature_importances_, index=X_train.columns).plot.barh()\n",
    "plt.title(\"Važnost atributa\")\n",
    "plt.show()"
   ]
  },
  {
   "cell_type": "markdown",
   "id": "f0b3f4eb",
   "metadata": {},
   "source": [
    "Iz značajnosti stributa vidimo da je mnogo bitnije da li su i kako popunjena polja u dnu table, nego na vrhu, što i ima smisla s obzirom na to kako se igra igra."
   ]
  },
  {
   "cell_type": "code",
   "execution_count": 7,
   "id": "87c4e210",
   "metadata": {},
   "outputs": [
    {
     "name": "stdout",
     "output_type": "stream",
     "text": [
      "Klasifikacioni izveštaj za model DecisionTreeClassifier za trening podatke\n",
      "---------------------------------------------------------------------------------\n",
      "              precision    recall  f1-score   support\n",
      "\n",
      "          -1       0.98      0.97      0.97     35597\n",
      "           0       0.97      0.98      0.97     35597\n",
      "           1       1.00      1.00      1.00     35597\n",
      "\n",
      "    accuracy                           0.98    106791\n",
      "   macro avg       0.98      0.98      0.98    106791\n",
      "weighted avg       0.98      0.98      0.98    106791\n",
      "\n",
      "---------------------------------------------------------------------------------\n",
      "Matrica konfuzije za model DecisionTreeClassifierza trening podatke\n",
      "---------------------------------------------------------------------------------\n",
      "        0      1     -1\n",
      "0   34434   1163      0\n",
      "1     711  34886      0\n",
      "-1      0      0  35597\n",
      "---------------------------------------------------------------------------------\n"
     ]
    }
   ],
   "source": [
    "report(clf, X_train, y_train)"
   ]
  },
  {
   "cell_type": "code",
   "execution_count": 8,
   "id": "d48eb4bc",
   "metadata": {},
   "outputs": [
    {
     "name": "stdout",
     "output_type": "stream",
     "text": [
      "Klasifikacioni izveštaj za model DecisionTreeClassifier za test podatke\n",
      "---------------------------------------------------------------------------------\n",
      "              precision    recall  f1-score   support\n",
      "\n",
      "          -1       0.63      0.71      0.67      3341\n",
      "           0       0.25      0.35      0.29      1295\n",
      "           1       0.88      0.79      0.83      8876\n",
      "\n",
      "    accuracy                           0.73     13512\n",
      "   macro avg       0.59      0.61      0.60     13512\n",
      "weighted avg       0.76      0.73      0.74     13512\n",
      "\n",
      "---------------------------------------------------------------------------------\n",
      "Matrica konfuzije za model DecisionTreeClassifierza test podatke\n",
      "---------------------------------------------------------------------------------\n",
      "       0    1    -1\n",
      "0   2357  433   551\n",
      "1    447  454   394\n",
      "-1   932  948  6996\n",
      "---------------------------------------------------------------------------------\n"
     ]
    }
   ],
   "source": [
    "report(clf, X_test, y_test, \"test\")"
   ]
  },
  {
   "cell_type": "markdown",
   "id": "cd817f36",
   "metadata": {},
   "source": [
    "Vidimo da je preciznost modela na trening podacima 1, ali da je ne test podacima mnogo manja. Dakle možemo pokušati da podesimo hiperparametre."
   ]
  },
  {
   "cell_type": "code",
   "execution_count": 9,
   "id": "b4c76704",
   "metadata": {},
   "outputs": [
    {
     "data": {
      "text/html": [
       "<style>#sk-container-id-1 {color: black;}#sk-container-id-1 pre{padding: 0;}#sk-container-id-1 div.sk-toggleable {background-color: white;}#sk-container-id-1 label.sk-toggleable__label {cursor: pointer;display: block;width: 100%;margin-bottom: 0;padding: 0.3em;box-sizing: border-box;text-align: center;}#sk-container-id-1 label.sk-toggleable__label-arrow:before {content: \"▸\";float: left;margin-right: 0.25em;color: #696969;}#sk-container-id-1 label.sk-toggleable__label-arrow:hover:before {color: black;}#sk-container-id-1 div.sk-estimator:hover label.sk-toggleable__label-arrow:before {color: black;}#sk-container-id-1 div.sk-toggleable__content {max-height: 0;max-width: 0;overflow: hidden;text-align: left;background-color: #f0f8ff;}#sk-container-id-1 div.sk-toggleable__content pre {margin: 0.2em;color: black;border-radius: 0.25em;background-color: #f0f8ff;}#sk-container-id-1 input.sk-toggleable__control:checked~div.sk-toggleable__content {max-height: 200px;max-width: 100%;overflow: auto;}#sk-container-id-1 input.sk-toggleable__control:checked~label.sk-toggleable__label-arrow:before {content: \"▾\";}#sk-container-id-1 div.sk-estimator input.sk-toggleable__control:checked~label.sk-toggleable__label {background-color: #d4ebff;}#sk-container-id-1 div.sk-label input.sk-toggleable__control:checked~label.sk-toggleable__label {background-color: #d4ebff;}#sk-container-id-1 input.sk-hidden--visually {border: 0;clip: rect(1px 1px 1px 1px);clip: rect(1px, 1px, 1px, 1px);height: 1px;margin: -1px;overflow: hidden;padding: 0;position: absolute;width: 1px;}#sk-container-id-1 div.sk-estimator {font-family: monospace;background-color: #f0f8ff;border: 1px dotted black;border-radius: 0.25em;box-sizing: border-box;margin-bottom: 0.5em;}#sk-container-id-1 div.sk-estimator:hover {background-color: #d4ebff;}#sk-container-id-1 div.sk-parallel-item::after {content: \"\";width: 100%;border-bottom: 1px solid gray;flex-grow: 1;}#sk-container-id-1 div.sk-label:hover label.sk-toggleable__label {background-color: #d4ebff;}#sk-container-id-1 div.sk-serial::before {content: \"\";position: absolute;border-left: 1px solid gray;box-sizing: border-box;top: 0;bottom: 0;left: 50%;z-index: 0;}#sk-container-id-1 div.sk-serial {display: flex;flex-direction: column;align-items: center;background-color: white;padding-right: 0.2em;padding-left: 0.2em;position: relative;}#sk-container-id-1 div.sk-item {position: relative;z-index: 1;}#sk-container-id-1 div.sk-parallel {display: flex;align-items: stretch;justify-content: center;background-color: white;position: relative;}#sk-container-id-1 div.sk-item::before, #sk-container-id-1 div.sk-parallel-item::before {content: \"\";position: absolute;border-left: 1px solid gray;box-sizing: border-box;top: 0;bottom: 0;left: 50%;z-index: -1;}#sk-container-id-1 div.sk-parallel-item {display: flex;flex-direction: column;z-index: 1;position: relative;background-color: white;}#sk-container-id-1 div.sk-parallel-item:first-child::after {align-self: flex-end;width: 50%;}#sk-container-id-1 div.sk-parallel-item:last-child::after {align-self: flex-start;width: 50%;}#sk-container-id-1 div.sk-parallel-item:only-child::after {width: 0;}#sk-container-id-1 div.sk-dashed-wrapped {border: 1px dashed gray;margin: 0 0.4em 0.5em 0.4em;box-sizing: border-box;padding-bottom: 0.4em;background-color: white;}#sk-container-id-1 div.sk-label label {font-family: monospace;font-weight: bold;display: inline-block;line-height: 1.2em;}#sk-container-id-1 div.sk-label-container {text-align: center;}#sk-container-id-1 div.sk-container {/* jupyter's `normalize.less` sets `[hidden] { display: none; }` but bootstrap.min.css set `[hidden] { display: none !important; }` so we also need the `!important` here to be able to override the default hidden behavior on the sphinx rendered scikit-learn.org. See: https://github.com/scikit-learn/scikit-learn/issues/21755 */display: inline-block !important;position: relative;}#sk-container-id-1 div.sk-text-repr-fallback {display: none;}</style><div id=\"sk-container-id-1\" class=\"sk-top-container\"><div class=\"sk-text-repr-fallback\"><pre>GridSearchCV(cv=3, estimator=DecisionTreeClassifier(),\n",
       "             param_grid={&#x27;criterion&#x27;: [&#x27;gini&#x27;, &#x27;entropy&#x27;],\n",
       "                         &#x27;max_depth&#x27;: [2, 4, 6, 8]})</pre><b>In a Jupyter environment, please rerun this cell to show the HTML representation or trust the notebook. <br />On GitHub, the HTML representation is unable to render, please try loading this page with nbviewer.org.</b></div><div class=\"sk-container\" hidden><div class=\"sk-item sk-dashed-wrapped\"><div class=\"sk-label-container\"><div class=\"sk-label sk-toggleable\"><input class=\"sk-toggleable__control sk-hidden--visually\" id=\"sk-estimator-id-1\" type=\"checkbox\" ><label for=\"sk-estimator-id-1\" class=\"sk-toggleable__label sk-toggleable__label-arrow\">GridSearchCV</label><div class=\"sk-toggleable__content\"><pre>GridSearchCV(cv=3, estimator=DecisionTreeClassifier(),\n",
       "             param_grid={&#x27;criterion&#x27;: [&#x27;gini&#x27;, &#x27;entropy&#x27;],\n",
       "                         &#x27;max_depth&#x27;: [2, 4, 6, 8]})</pre></div></div></div><div class=\"sk-parallel\"><div class=\"sk-parallel-item\"><div class=\"sk-item\"><div class=\"sk-label-container\"><div class=\"sk-label sk-toggleable\"><input class=\"sk-toggleable__control sk-hidden--visually\" id=\"sk-estimator-id-2\" type=\"checkbox\" ><label for=\"sk-estimator-id-2\" class=\"sk-toggleable__label sk-toggleable__label-arrow\">estimator: DecisionTreeClassifier</label><div class=\"sk-toggleable__content\"><pre>DecisionTreeClassifier()</pre></div></div></div><div class=\"sk-serial\"><div class=\"sk-item\"><div class=\"sk-estimator sk-toggleable\"><input class=\"sk-toggleable__control sk-hidden--visually\" id=\"sk-estimator-id-3\" type=\"checkbox\" ><label for=\"sk-estimator-id-3\" class=\"sk-toggleable__label sk-toggleable__label-arrow\">DecisionTreeClassifier</label><div class=\"sk-toggleable__content\"><pre>DecisionTreeClassifier()</pre></div></div></div></div></div></div></div></div></div></div>"
      ],
      "text/plain": [
       "GridSearchCV(cv=3, estimator=DecisionTreeClassifier(),\n",
       "             param_grid={'criterion': ['gini', 'entropy'],\n",
       "                         'max_depth': [2, 4, 6, 8]})"
      ]
     },
     "execution_count": 9,
     "metadata": {},
     "output_type": "execute_result"
    }
   ],
   "source": [
    "parameters = {'max_depth' : [2, 4, 6, 8],\n",
    "             'criterion' : ['gini', 'entropy']}\n",
    "estimator = GridSearchCV(tree.DecisionTreeClassifier(), param_grid=parameters, cv=3)\n",
    "estimator.fit(X_train, y_train)"
   ]
  },
  {
   "cell_type": "code",
   "execution_count": 10,
   "id": "1418c049",
   "metadata": {},
   "outputs": [
    {
     "data": {
      "text/plain": [
       "{'criterion': 'gini', 'max_depth': 8}"
      ]
     },
     "execution_count": 10,
     "metadata": {},
     "output_type": "execute_result"
    }
   ],
   "source": [
    "estimator.best_params_"
   ]
  },
  {
   "cell_type": "code",
   "execution_count": 11,
   "id": "5b1d1ab8",
   "metadata": {},
   "outputs": [
    {
     "data": {
      "text/plain": [
       "0.5766216254178723"
      ]
     },
     "execution_count": 11,
     "metadata": {},
     "output_type": "execute_result"
    }
   ],
   "source": [
    "estimator.best_score_"
   ]
  },
  {
   "cell_type": "code",
   "execution_count": 12,
   "id": "28e3ce05",
   "metadata": {},
   "outputs": [
    {
     "name": "stdout",
     "output_type": "stream",
     "text": [
      "Klasifikacioni izveštaj za model DecisionTreeClassifier za trening podatke\n",
      "---------------------------------------------------------------------------------\n",
      "              precision    recall  f1-score   support\n",
      "\n",
      "          -1       0.62      0.50      0.55     35597\n",
      "           0       0.53      0.66      0.59     35597\n",
      "           1       0.67      0.65      0.66     35597\n",
      "\n",
      "    accuracy                           0.60    106791\n",
      "   macro avg       0.61      0.60      0.60    106791\n",
      "weighted avg       0.61      0.60      0.60    106791\n",
      "\n",
      "---------------------------------------------------------------------------------\n",
      "Matrica konfuzije za model DecisionTreeClassifierza trening podatke\n",
      "---------------------------------------------------------------------------------\n",
      "        0      1     -1\n",
      "0   17630  12685   5282\n",
      "1    6034  23347   6216\n",
      "-1   4592   7880  23125\n",
      "---------------------------------------------------------------------------------\n"
     ]
    }
   ],
   "source": [
    "report(estimator.best_estimator_, X_train, y_train)"
   ]
  },
  {
   "cell_type": "code",
   "execution_count": 13,
   "id": "7f282a17",
   "metadata": {},
   "outputs": [
    {
     "name": "stdout",
     "output_type": "stream",
     "text": [
      "Klasifikacioni izveštaj za model DecisionTreeClassifier za test podatke\n",
      "---------------------------------------------------------------------------------\n",
      "              precision    recall  f1-score   support\n",
      "\n",
      "          -1       0.54      0.50      0.52      3341\n",
      "           0       0.19      0.57      0.28      1295\n",
      "           1       0.87      0.64      0.73      8876\n",
      "\n",
      "    accuracy                           0.60     13512\n",
      "   macro avg       0.53      0.57      0.51     13512\n",
      "weighted avg       0.72      0.60      0.64     13512\n",
      "\n",
      "---------------------------------------------------------------------------------\n",
      "Matrica konfuzije za model DecisionTreeClassifierza test podatke\n",
      "---------------------------------------------------------------------------------\n",
      "       0     1    -1\n",
      "0   1680  1099   562\n",
      "1    263   734   298\n",
      "-1  1158  2068  5650\n",
      "---------------------------------------------------------------------------------\n"
     ]
    }
   ],
   "source": [
    "report(estimator.best_estimator_, X_test, y_test, \"test\")"
   ]
  },
  {
   "cell_type": "code",
   "execution_count": null,
   "id": "7829aa05",
   "metadata": {},
   "outputs": [],
   "source": [
    "plt.figure(figsize=(80,50))\n",
    "_ = tree.plot_tree(estimator.best_estimator_, filled=True)"
   ]
  },
  {
   "cell_type": "markdown",
   "id": "0da33608",
   "metadata": {},
   "source": [
    "Kako ni ovo nije poboljšalo moć modela, možemo da probamo i ansambl pristup, tj da koristimo šumu."
   ]
  },
  {
   "cell_type": "code",
   "execution_count": 14,
   "id": "b9df3e79",
   "metadata": {},
   "outputs": [
    {
     "name": "stderr",
     "output_type": "stream",
     "text": [
      "/usr/local/lib/python3.10/dist-packages/sklearn/base.py:1151: DataConversionWarning: A column-vector y was passed when a 1d array was expected. Please change the shape of y to (n_samples,), for example using ravel().\n",
      "  return fit_method(estimator, *args, **kwargs)\n"
     ]
    },
    {
     "data": {
      "text/html": [
       "<style>#sk-container-id-2 {color: black;}#sk-container-id-2 pre{padding: 0;}#sk-container-id-2 div.sk-toggleable {background-color: white;}#sk-container-id-2 label.sk-toggleable__label {cursor: pointer;display: block;width: 100%;margin-bottom: 0;padding: 0.3em;box-sizing: border-box;text-align: center;}#sk-container-id-2 label.sk-toggleable__label-arrow:before {content: \"▸\";float: left;margin-right: 0.25em;color: #696969;}#sk-container-id-2 label.sk-toggleable__label-arrow:hover:before {color: black;}#sk-container-id-2 div.sk-estimator:hover label.sk-toggleable__label-arrow:before {color: black;}#sk-container-id-2 div.sk-toggleable__content {max-height: 0;max-width: 0;overflow: hidden;text-align: left;background-color: #f0f8ff;}#sk-container-id-2 div.sk-toggleable__content pre {margin: 0.2em;color: black;border-radius: 0.25em;background-color: #f0f8ff;}#sk-container-id-2 input.sk-toggleable__control:checked~div.sk-toggleable__content {max-height: 200px;max-width: 100%;overflow: auto;}#sk-container-id-2 input.sk-toggleable__control:checked~label.sk-toggleable__label-arrow:before {content: \"▾\";}#sk-container-id-2 div.sk-estimator input.sk-toggleable__control:checked~label.sk-toggleable__label {background-color: #d4ebff;}#sk-container-id-2 div.sk-label input.sk-toggleable__control:checked~label.sk-toggleable__label {background-color: #d4ebff;}#sk-container-id-2 input.sk-hidden--visually {border: 0;clip: rect(1px 1px 1px 1px);clip: rect(1px, 1px, 1px, 1px);height: 1px;margin: -1px;overflow: hidden;padding: 0;position: absolute;width: 1px;}#sk-container-id-2 div.sk-estimator {font-family: monospace;background-color: #f0f8ff;border: 1px dotted black;border-radius: 0.25em;box-sizing: border-box;margin-bottom: 0.5em;}#sk-container-id-2 div.sk-estimator:hover {background-color: #d4ebff;}#sk-container-id-2 div.sk-parallel-item::after {content: \"\";width: 100%;border-bottom: 1px solid gray;flex-grow: 1;}#sk-container-id-2 div.sk-label:hover label.sk-toggleable__label {background-color: #d4ebff;}#sk-container-id-2 div.sk-serial::before {content: \"\";position: absolute;border-left: 1px solid gray;box-sizing: border-box;top: 0;bottom: 0;left: 50%;z-index: 0;}#sk-container-id-2 div.sk-serial {display: flex;flex-direction: column;align-items: center;background-color: white;padding-right: 0.2em;padding-left: 0.2em;position: relative;}#sk-container-id-2 div.sk-item {position: relative;z-index: 1;}#sk-container-id-2 div.sk-parallel {display: flex;align-items: stretch;justify-content: center;background-color: white;position: relative;}#sk-container-id-2 div.sk-item::before, #sk-container-id-2 div.sk-parallel-item::before {content: \"\";position: absolute;border-left: 1px solid gray;box-sizing: border-box;top: 0;bottom: 0;left: 50%;z-index: -1;}#sk-container-id-2 div.sk-parallel-item {display: flex;flex-direction: column;z-index: 1;position: relative;background-color: white;}#sk-container-id-2 div.sk-parallel-item:first-child::after {align-self: flex-end;width: 50%;}#sk-container-id-2 div.sk-parallel-item:last-child::after {align-self: flex-start;width: 50%;}#sk-container-id-2 div.sk-parallel-item:only-child::after {width: 0;}#sk-container-id-2 div.sk-dashed-wrapped {border: 1px dashed gray;margin: 0 0.4em 0.5em 0.4em;box-sizing: border-box;padding-bottom: 0.4em;background-color: white;}#sk-container-id-2 div.sk-label label {font-family: monospace;font-weight: bold;display: inline-block;line-height: 1.2em;}#sk-container-id-2 div.sk-label-container {text-align: center;}#sk-container-id-2 div.sk-container {/* jupyter's `normalize.less` sets `[hidden] { display: none; }` but bootstrap.min.css set `[hidden] { display: none !important; }` so we also need the `!important` here to be able to override the default hidden behavior on the sphinx rendered scikit-learn.org. See: https://github.com/scikit-learn/scikit-learn/issues/21755 */display: inline-block !important;position: relative;}#sk-container-id-2 div.sk-text-repr-fallback {display: none;}</style><div id=\"sk-container-id-2\" class=\"sk-top-container\"><div class=\"sk-text-repr-fallback\"><pre>RandomForestClassifier(n_estimators=5)</pre><b>In a Jupyter environment, please rerun this cell to show the HTML representation or trust the notebook. <br />On GitHub, the HTML representation is unable to render, please try loading this page with nbviewer.org.</b></div><div class=\"sk-container\" hidden><div class=\"sk-item\"><div class=\"sk-estimator sk-toggleable\"><input class=\"sk-toggleable__control sk-hidden--visually\" id=\"sk-estimator-id-4\" type=\"checkbox\" checked><label for=\"sk-estimator-id-4\" class=\"sk-toggleable__label sk-toggleable__label-arrow\">RandomForestClassifier</label><div class=\"sk-toggleable__content\"><pre>RandomForestClassifier(n_estimators=5)</pre></div></div></div></div></div>"
      ],
      "text/plain": [
       "RandomForestClassifier(n_estimators=5)"
      ]
     },
     "execution_count": 14,
     "metadata": {},
     "output_type": "execute_result"
    }
   ],
   "source": [
    "forest = RandomForestClassifier(n_estimators=5)\n",
    "forest.fit(X_train, y_train)\n"
   ]
  },
  {
   "cell_type": "code",
   "execution_count": 15,
   "id": "81f38170",
   "metadata": {},
   "outputs": [
    {
     "name": "stdout",
     "output_type": "stream",
     "text": [
      "Klasifikacioni izveštaj za model RandomForestClassifier za test podatke\n",
      "---------------------------------------------------------------------------------\n",
      "              precision    recall  f1-score   support\n",
      "\n",
      "          -1       0.63      0.75      0.68      3341\n",
      "           0       0.28      0.40      0.33      1295\n",
      "           1       0.91      0.78      0.84      8876\n",
      "\n",
      "    accuracy                           0.74     13512\n",
      "   macro avg       0.60      0.64      0.62     13512\n",
      "weighted avg       0.78      0.74      0.75     13512\n",
      "\n",
      "---------------------------------------------------------------------------------\n",
      "Matrica konfuzije za model RandomForestClassifierza test podatke\n",
      "---------------------------------------------------------------------------------\n",
      "       0    1    -1\n",
      "0   2514  447   380\n",
      "1    446  522   327\n",
      "-1  1040  926  6910\n",
      "---------------------------------------------------------------------------------\n"
     ]
    }
   ],
   "source": [
    "report(forest, X_test, y_test, \"test\")"
   ]
  },
  {
   "cell_type": "markdown",
   "id": "6b31ded0",
   "metadata": {},
   "source": [
    "Vidimo da 5 drveta nije poboljšalo kvalitet modela, pa možemo da pokušamo da povećamo broj njih. "
   ]
  },
  {
   "cell_type": "code",
   "execution_count": 16,
   "id": "1794200d",
   "metadata": {},
   "outputs": [
    {
     "name": "stderr",
     "output_type": "stream",
     "text": [
      "/usr/local/lib/python3.10/dist-packages/sklearn/base.py:1151: DataConversionWarning: A column-vector y was passed when a 1d array was expected. Please change the shape of y to (n_samples,), for example using ravel().\n",
      "  return fit_method(estimator, *args, **kwargs)\n"
     ]
    },
    {
     "name": "stdout",
     "output_type": "stream",
     "text": [
      "Klasifikacioni izveštaj za model RandomForestClassifier za trening podatke\n",
      "---------------------------------------------------------------------------------\n",
      "              precision    recall  f1-score   support\n",
      "\n",
      "          -1       0.99      0.96      0.97     35597\n",
      "           0       0.96      0.99      0.97     35597\n",
      "           1       1.00      1.00      1.00     35597\n",
      "\n",
      "    accuracy                           0.98    106791\n",
      "   macro avg       0.98      0.98      0.98    106791\n",
      "weighted avg       0.98      0.98      0.98    106791\n",
      "\n",
      "---------------------------------------------------------------------------------\n",
      "Matrica konfuzije za model RandomForestClassifierza trening podatke\n",
      "---------------------------------------------------------------------------------\n",
      "        0      1     -1\n",
      "0   34216   1381      0\n",
      "1     493  35104      0\n",
      "-1      0      0  35597\n",
      "---------------------------------------------------------------------------------\n",
      "Klasifikacioni izveštaj za model RandomForestClassifier za test podatke\n",
      "---------------------------------------------------------------------------------\n",
      "              precision    recall  f1-score   support\n",
      "\n",
      "          -1       0.71      0.77      0.74      3341\n",
      "           0       0.36      0.44      0.40      1295\n",
      "           1       0.91      0.86      0.88      8876\n",
      "\n",
      "    accuracy                           0.80     13512\n",
      "   macro avg       0.66      0.69      0.67     13512\n",
      "weighted avg       0.81      0.80      0.80     13512\n",
      "\n",
      "---------------------------------------------------------------------------------\n",
      "Matrica konfuzije za model RandomForestClassifierza test podatke\n",
      "---------------------------------------------------------------------------------\n",
      "       0    1    -1\n",
      "0   2588  403   350\n",
      "1    370  565   360\n",
      "-1   672  596  7608\n",
      "---------------------------------------------------------------------------------\n"
     ]
    }
   ],
   "source": [
    "forest = RandomForestClassifier(n_estimators=500, random_state=42)\n",
    "forest.fit(X_train, y_train)\n",
    "report(forest, X_train, y_train)\n",
    "report(forest, X_test, y_test, \"test\")"
   ]
  },
  {
   "cell_type": "markdown",
   "id": "3bdaf83f",
   "metadata": {},
   "source": [
    "Kada koristimo 500 drveta, preciznost modela postaje prihvatljiva, ali po cenu interpretabilnosti i vizualizacije."
   ]
  },
  {
   "cell_type": "code",
   "execution_count": 47,
   "id": "c91598ae",
   "metadata": {},
   "outputs": [],
   "source": [
    "def roc_auc_score_ovr(y_test, y_pred):\n",
    "    classes = [1, 0, -1]\n",
    "    roc_auc_ovr = {}\n",
    "    for i in range(len(classes)):\n",
    "        # Gets the class\n",
    "        c = classes[i]\n",
    "#         print(y_test['Class'].values)\n",
    "        y_test_array = y_test['Class'].values\n",
    "        \n",
    "        # Prepares an auxiliar dataframe to help with the plots\n",
    "        df_aux = X_test.copy()\n",
    "        df_aux['class'] = [1 if y == c else 0 for y in y_test_array]\n",
    "        df_aux['pred'] = y_pred\n",
    "        df_aux = df_aux.reset_index(drop = True)\n",
    "        \n",
    "        # Calculates the ROC AUC OvR\n",
    "        roc_auc_ovr[c] = roc_auc_score(df_aux['class'], df_aux['pred']) \n",
    "    avg_roc_auc = 0  \n",
    "    i = 0  \n",
    "    for k in roc_auc_ovr:  \n",
    "        avg_roc_auc += roc_auc_ovr[k]  \n",
    "        i += 1  \n",
    "        print(f\"{k} ROC AUC OvR: {roc_auc_ovr[k]:.2f}\")\n",
    "    print(\"---------------------------------------------------------\")\n",
    "    return avg_roc_auc/i\n",
    "    "
   ]
  },
  {
   "cell_type": "code",
   "execution_count": 50,
   "id": "714770b3",
   "metadata": {},
   "outputs": [
    {
     "name": "stdout",
     "output_type": "stream",
     "text": [
      "1 ROC AUC OvR: 0.8144\n",
      "0 ROC AUC OvR: 0.3709\n",
      "-1 ROC AUC OvR: 0.1793\n",
      "---------------------------------------------------------\n",
      "1 ROC AUC OvR: 0.7486\n",
      "0 ROC AUC OvR: 0.4003\n",
      "-1 ROC AUC OvR: 0.2454\n",
      "---------------------------------------------------------\n",
      "1 ROC AUC OvR: 0.8655\n",
      "0 ROC AUC OvR: 0.3598\n",
      "-1 ROC AUC OvR: 0.1226\n",
      "---------------------------------------------------------\n"
     ]
    },
    {
     "data": {
      "image/png": "[encoded data removed]",
      "text/plain": [
       "<Figure size 504x504 with 1 Axes>"
      ]
     },
     "metadata": {
      "needs_background": "light"
     },
     "output_type": "display_data"
    }
   ],
   "source": [
    "models = [clf, estimator.best_estimator_, forest]\n",
    "names = ['DecisionTree', 'GridSearchCrossValidation', 'RandomForest']\n",
    "set = zip(models, names)\n",
    "plt.figure(figsize=(7,7))\n",
    "for model, name in set:\n",
    "    y_pred = model.predict(X_test)\n",
    "    falsePR, truePR, _ = roc_curve(y_test, y_pred, pos_label=1)\n",
    "    auc = auc_score_ovr(y_test, y_pred)\n",
    "    label = f'{name} (avgauc{auc:.4f})' \n",
    "    plt.plot(falsePR, truePR, label=label)\n",
    "plt.plot([0,1], [0,1], label='Random (auc = 0.5)')\n",
    "plt.title(\"Poređenje modela\")\n",
    "plt.legend()\n",
    "plt.show()"
   ]
  },
  {
   "cell_type": "markdown",
   "id": "a50ef053",
   "metadata": {},
   "source": []
  },
  {
   "cell_type": "code",
   "execution_count": null,
   "id": "cd2f4ae1",
   "metadata": {},
   "outputs": [],
   "source": []
  }
 ],
 "metadata": {
  "kernelspec": {
   "display_name": "Python 3 (ipykernel)",
   "language": "python",
   "name": "python3"
  },
  "language_info": {
   "codemirror_mode": {
    "name": "ipython",
    "version": 3
   },
   "file_extension": ".py",
   "mimetype": "text/x-python",
   "name": "python",
   "nbconvert_exporter": "python",
   "pygments_lexer": "ipython3",
   "version": "3.10.6"
  }
 },
 "nbformat": 4,
 "nbformat_minor": 5
}
